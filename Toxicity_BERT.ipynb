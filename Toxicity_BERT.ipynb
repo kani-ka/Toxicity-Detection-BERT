{
 "cells": [
  {
   "cell_type": "code",
   "execution_count": 1,
   "id": "c16fa617-8976-4404-96d8-2e7eb74addf6",
   "metadata": {},
   "outputs": [],
   "source": [
    "## Project: CommentToxicity with BERT\n",
    "# ----------------------------------\n",
    "# Structure:\n",
    "# ├─ jigsaw-toxic-comment-classification-challenge/\n",
    "# │   ├─ train.csv\n",
    "# │   ├─ test.csv\n",
    "# │   ├─ test_labels.csv\n",
    "# │   └─ sample_submission.csv\n",
    "# ├─ Toxicity_BERT.ipynb     # Jupyter notebook\n",
    "# ├─ requirements.txt\n",
    "# └─ .gitignore\n",
    "\n",
    "# -------------------------------\n",
    "# requirements.txt\n",
    "# -------------------------------\n",
    "# tensorflow>=2.10.0\n",
    "# transformers>=4.30.0\n",
    "# pandas\n",
    "# scikit-learn\n",
    "# matplotlib\n",
    "\n",
    "\n",
    "# In Toxicity_BERT.ipynb (or a .py script), use the following cells/code:\n",
    "\n"
   ]
  },
  {
   "cell_type": "code",
   "execution_count": null,
   "id": "3e8b93e8-5756-4177-9ae8-942e55b9d26e",
   "metadata": {},
   "outputs": [],
   "source": []
  },
  {
   "cell_type": "code",
   "execution_count": 2,
   "id": "eec87ef2-f6ae-461c-bb7e-a3d45643ce11",
   "metadata": {},
   "outputs": [
    {
     "name": "stdout",
     "output_type": "stream",
     "text": [
      "WARNING:tensorflow:From C:\\Users\\kansh\\AppData\\Roaming\\Python\\Python311\\site-packages\\keras\\src\\losses.py:2976: The name tf.losses.sparse_softmax_cross_entropy is deprecated. Please use tf.compat.v1.losses.sparse_softmax_cross_entropy instead.\n",
      "\n"
     ]
    }
   ],
   "source": [
    "# 1. Imports and Setup\n",
    "import pandas as pd\n",
    "import numpy as np\n",
    "import tensorflow as tf\n",
    "from transformers import BertTokenizerFast, TFBertModel\n",
    "from sklearn.model_selection import train_test_split\n",
    "import matplotlib.pyplot as plt\n",
    "\n"
   ]
  },
  {
   "cell_type": "code",
   "execution_count": 6,
   "id": "73612d09-d146-444d-b4b2-fbdc541491ff",
   "metadata": {},
   "outputs": [],
   "source": [
    "\n",
    "# 2. Load Data\n",
    "\n",
    "train_df = pd.read_csv(\"C:/Users/kansh/Desktop/project/comment toxicity/CommentToxicity-main/jigsaw-toxic-comment-classification-challenge/train.csv\")\n",
    "# For multi-label: columns 2:8\n",
    "label_cols = ['toxic', 'severe_toxic', 'obscene', 'threat', 'insult', 'identity_hate']\n",
    "train_df[label_cols] = train_df[label_cols].fillna(0)\n",
    "\n"
   ]
  },
  {
   "cell_type": "code",
   "execution_count": 8,
   "id": "efd2715b-24b5-4d87-a4c2-ef8f32a5bc30",
   "metadata": {},
   "outputs": [],
   "source": [
    "# 3. Train/Validation Split\n",
    "train_texts, val_texts, train_labels, val_labels = train_test_split(\n",
    "    train_df['comment_text'].values,\n",
    "    train_df[label_cols].values,\n",
    "    test_size=0.1,\n",
    "    random_state=42\n",
    ")\n",
    "\n"
   ]
  },
  {
   "cell_type": "code",
   "execution_count": 9,
   "id": "5be5b15a-b4f7-4ea4-8142-4aacb59f5569",
   "metadata": {},
   "outputs": [
    {
     "data": {
      "application/vnd.jupyter.widget-view+json": {
       "model_id": "c9ea176f1eb64705b52f335638725ed0",
       "version_major": 2,
       "version_minor": 0
      },
      "text/plain": [
       "model.safetensors:  14%|#4        | 62.9M/440M [00:00<?, ?B/s]"
      ]
     },
     "metadata": {},
     "output_type": "display_data"
    },
    {
     "name": "stdout",
     "output_type": "stream",
     "text": [
      "WARNING:tensorflow:From C:\\Users\\kansh\\AppData\\Roaming\\Python\\Python311\\site-packages\\tf_keras\\src\\backend.py:873: The name tf.get_default_graph is deprecated. Please use tf.compat.v1.get_default_graph instead.\n",
      "\n"
     ]
    },
    {
     "name": "stderr",
     "output_type": "stream",
     "text": [
      "Some weights of the PyTorch model were not used when initializing the TF 2.0 model TFBertModel: ['cls.predictions.transform.dense.bias', 'cls.predictions.transform.LayerNorm.weight', 'cls.predictions.transform.LayerNorm.bias', 'cls.seq_relationship.bias', 'cls.predictions.transform.dense.weight', 'cls.seq_relationship.weight', 'cls.predictions.bias']\n",
      "- This IS expected if you are initializing TFBertModel from a PyTorch model trained on another task or with another architecture (e.g. initializing a TFBertForSequenceClassification model from a BertForPreTraining model).\n",
      "- This IS NOT expected if you are initializing TFBertModel from a PyTorch model that you expect to be exactly identical (e.g. initializing a TFBertForSequenceClassification model from a BertForSequenceClassification model).\n",
      "All the weights of TFBertModel were initialized from the PyTorch model.\n",
      "If your task is similar to the task the model of the checkpoint was trained on, you can already use TFBertModel for predictions without further training.\n"
     ]
    }
   ],
   "source": [
    "# 4. Tokenizer & Model Initialization\n",
    "MODEL_NAME = 'bert-base-uncased'\n",
    "tokenizer = BertTokenizerFast.from_pretrained(MODEL_NAME)\n",
    "bert_encoder = TFBertModel.from_pretrained(MODEL_NAME)\n",
    "\n"
   ]
  },
  {
   "cell_type": "code",
   "execution_count": 10,
   "id": "067b7a49-4f50-451d-a573-db5c5c4a1590",
   "metadata": {},
   "outputs": [],
   "source": [
    "# 5. Tokenization Function\n",
    "MAX_LEN = 128\n",
    "def tokenize_texts(texts):\n",
    "    return tokenizer(\n",
    "        list(texts),\n",
    "        padding=True,\n",
    "        truncation=True,\n",
    "        max_length=MAX_LEN,\n",
    "        return_tensors='tf'\n",
    "    )\n",
    "\n"
   ]
  },
  {
   "cell_type": "code",
   "execution_count": 11,
   "id": "74d50401-3072-4a8a-935e-ebe21418705f",
   "metadata": {},
   "outputs": [],
   "source": [
    "# 6. Prepare tf.data datasets\n",
    "train_encodings = tokenize_texts(train_texts)\n",
    "val_encodings = tokenize_texts(val_texts)\n",
    "\n",
    "train_dataset = tf.data.Dataset.from_tensor_slices((\n",
    "    {\n",
    "        'input_ids': train_encodings['input_ids'],\n",
    "        'attention_mask': train_encodings['attention_mask']\n",
    "    }, train_labels\n",
    ")).shuffle(10000).batch(16).prefetch(tf.data.AUTOTUNE)\n",
    "\n",
    "val_dataset = tf.data.Dataset.from_tensor_slices((\n",
    "    {\n",
    "        'input_ids': val_encodings['input_ids'],\n",
    "        'attention_mask': val_encodings['attention_mask']\n",
    "    }, val_labels\n",
    ")).batch(16).prefetch(tf.data.AUTOTUNE)\n",
    "\n"
   ]
  },
  {
   "cell_type": "code",
   "execution_count": 12,
   "id": "6f692469-278b-42ef-bbed-941225191515",
   "metadata": {},
   "outputs": [
    {
     "name": "stdout",
     "output_type": "stream",
     "text": [
      "WARNING:tensorflow:From C:\\Users\\kansh\\AppData\\Roaming\\Python\\Python311\\site-packages\\tensorflow\\python\\autograph\\converters\\directives.py:126: The name tf.nn.fused_batch_norm is deprecated. Please use tf.compat.v1.nn.fused_batch_norm instead.\n",
      "\n",
      "Model: \"model\"\n",
      "__________________________________________________________________________________________________\n",
      " Layer (type)                Output Shape                 Param #   Connected to                  \n",
      "==================================================================================================\n",
      " input_ids (InputLayer)      [(None, 128)]                0         []                            \n",
      "                                                                                                  \n",
      " attention_mask (InputLayer  [(None, 128)]                0         []                            \n",
      " )                                                                                                \n",
      "                                                                                                  \n",
      " tf_bert_model (TFBertModel  TFBaseModelOutputWithPooli   1094822   ['input_ids[0][0]',           \n",
      " )                           ngAndCrossAttentions(last_   40         'attention_mask[0][0]']      \n",
      "                             hidden_state=(None, 128, 7                                           \n",
      "                             68),                                                                 \n",
      "                              pooler_output=(None, 768)                                           \n",
      "                             , past_key_values=None, hi                                           \n",
      "                             dden_states=None, attentio                                           \n",
      "                             ns=None, cross_attentions=                                           \n",
      "                             None)                                                                \n",
      "                                                                                                  \n",
      " dropout_37 (Dropout)        (None, 768)                  0         ['tf_bert_model[0][1]']       \n",
      "                                                                                                  \n",
      " outputs (Dense)             (None, 6)                    4614      ['dropout_37[0][0]']          \n",
      "                                                                                                  \n",
      "==================================================================================================\n",
      "Total params: 109486854 (417.66 MB)\n",
      "Trainable params: 109486854 (417.66 MB)\n",
      "Non-trainable params: 0 (0.00 Byte)\n",
      "__________________________________________________________________________________________________\n"
     ]
    }
   ],
   "source": [
    "# 7. Build Model\n",
    "input_ids = tf.keras.Input(shape=(MAX_LEN,), dtype=tf.int32, name='input_ids')\n",
    "attention_mask = tf.keras.Input(shape=(MAX_LEN,), dtype=tf.int32, name='attention_mask')\n",
    "\n",
    "bert_outputs = bert_encoder(input_ids, attention_mask=attention_mask)\n",
    "pooled_output = bert_outputs.pooler_output  # [batch_size, hidden_size]\n",
    "\n",
    "x = tf.keras.layers.Dropout(0.3)(pooled_output)\n",
    "outputs = tf.keras.layers.Dense(len(label_cols), activation='sigmoid', name='outputs')(x)\n",
    "\n",
    "model = tf.keras.Model(inputs=[input_ids, attention_mask], outputs=outputs)\n",
    "model.compile(\n",
    "    optimizer=tf.keras.optimizers.Adam(learning_rate=3e-5),\n",
    "    loss='binary_crossentropy',\n",
    "    metrics=['accuracy']\n",
    ")\n",
    "\n",
    "model.summary()\n",
    "\n"
   ]
  },
  {
   "cell_type": "code",
   "execution_count": 13,
   "id": "77c4af05-1301-46cb-ad2a-ccefa196d4a4",
   "metadata": {},
   "outputs": [
    {
     "name": "stdout",
     "output_type": "stream",
     "text": [
      "Epoch 1/3\n",
      "WARNING:tensorflow:From C:\\Users\\kansh\\AppData\\Roaming\\Python\\Python311\\site-packages\\tensorflow\\python\\autograph\\converters\\directives.py:126: The name tf.ragged.RaggedTensorValue is deprecated. Please use tf.compat.v1.ragged.RaggedTensorValue instead.\n",
      "\n",
      "WARNING:tensorflow:From C:\\Users\\kansh\\AppData\\Roaming\\Python\\Python311\\site-packages\\tf_keras\\src\\engine\\base_layer_utils.py:384: The name tf.executing_eagerly_outside_functions is deprecated. Please use tf.compat.v1.executing_eagerly_outside_functions instead.\n",
      "\n",
      "  12/8976 [..............................] - ETA: 230:58:30 - loss: 0.4691 - accuracy: 0.1094"
     ]
    },
    {
     "name": "stderr",
     "output_type": "stream",
     "text": [
      "\n",
      "KeyboardInterrupt\n",
      "\n"
     ]
    }
   ],
   "source": [
    "# 8. Training\n",
    "EPOCHS = 3\n",
    "history = model.fit(\n",
    "    train_dataset,\n",
    "    validation_data=val_dataset,\n",
    "    epochs=EPOCHS\n",
    ")\n",
    "\n",
    "\n"
   ]
  },
  {
   "cell_type": "code",
   "execution_count": null,
   "id": "f31704b5-fb8c-463c-96de-dbccd34137e7",
   "metadata": {},
   "outputs": [],
   "source": [
    "# 9. Plot Training Curves\n",
    "plt.plot(history.history['loss'], label='train_loss')\n",
    "plt.plot(history.history['val_loss'], label='val_loss')\n",
    "plt.legend()\n",
    "plt.title('Loss curves')\n",
    "plt.show()\n",
    "\n",
    "plt.plot(history.history['accuracy'], label='train_acc')\n",
    "plt.plot(history.history['val_accuracy'], label='val_acc')\n",
    "plt.legend()\n",
    "plt.title('Accuracy curves')\n",
    "plt.show()\n"
   ]
  },
  {
   "cell_type": "code",
   "execution_count": null,
   "id": "9578cba1-12c1-413b-abe3-39e51da63848",
   "metadata": {},
   "outputs": [],
   "source": [
    "# 10. Save Model\n",
    "model.save('toxicity_bert_model')\n",
    "\n",
    "# 11. Inference Helper\n",
    "\n",
    "def predict_toxicity(texts):\n",
    "    enc = tokenizer(texts, padding=True, truncation=True, max_length=MAX_LEN, return_tensors='tf')\n",
    "    preds = model.predict({\n",
    "        'input_ids': enc['input_ids'],\n",
    "        'attention_mask': enc['attention_mask']\n",
    "    })\n",
    "    return pd.DataFrame(preds, columns=label_cols)\n",
    "\n",
    "# Example usage:\n",
    "# results = predict_toxicity([\"You are awesome!\", \"I hate you!\"])\n",
    "# print(results)"
   ]
  }
 ],
 "metadata": {
  "kernelspec": {
   "display_name": "Python 3 (ipykernel)",
   "language": "python",
   "name": "python3"
  },
  "language_info": {
   "codemirror_mode": {
    "name": "ipython",
    "version": 3
   },
   "file_extension": ".py",
   "mimetype": "text/x-python",
   "name": "python",
   "nbconvert_exporter": "python",
   "pygments_lexer": "ipython3",
   "version": "3.11.9"
  }
 },
 "nbformat": 4,
 "nbformat_minor": 5
}
